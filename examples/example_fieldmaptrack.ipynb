{
 "cells": [
  {
   "cell_type": "code",
   "execution_count": 1,
   "metadata": {
    "collapsed": true
   },
   "outputs": [],
   "source": [
    "import fieldmaptrack\n",
    "import numpy\n",
    "import matplotlib.pyplot as plt"
   ]
  },
  {
   "cell_type": "code",
   "execution_count": 2,
   "metadata": {
    "collapsed": true
   },
   "outputs": [],
   "source": [
    "# --- load fieldmap from file\n",
    "fname = '2014-09-18_Dipolo_Booster_BD_Modelo_6_-80_35mm_-1000_1000mm.txt'\n",
    "fmap = fieldmaptrack.FieldMap(fname = fname)"
   ]
  },
  {
   "cell_type": "code",
   "execution_count": 3,
   "metadata": {
    "collapsed": false
   },
   "outputs": [
    {
     "name": "stdout",
     "output_type": "stream",
     "text": [
      "Fieldmap summary\n",
      "================\n",
      "fieldmap label           : Dipolo_Booster_BD_Modelo6\n",
      "timestamp                : 2014-09-18_12-05-03\n",
      "current[A]               : 977.45\n",
      "magnet length[mm]        : 1206.0\n",
      "minx[mm]|maxx[mm]|nrptsx : [-80.0,+35.0], 116 points (step 1.00 mm)\n",
      "minz[mm]|maxz[mm]|nrptsz : [-1000.0,+1000.0], 2001 points (step 1.00 mm)\n",
      "min_bx|max_bx [T]        : -0.0|+0.0\n",
      "min_by|max_by [T]        : -1.1|-0.0\n",
      "min_bz|max_bz [T]        : -0.0|+0.0\n"
     ]
    }
   ],
   "source": [
    "# --- print a summary of the fieldmap data\n",
    "print('Fieldmap summary')\n",
    "print('================')\n",
    "print('{0:<25s}: {1:s}'.format('fieldmap label',fmap.fieldmap_label))\n",
    "print('{0:<25s}: {1:s}'.format('timestamp',fmap.timestamp))\n",
    "print('{0:<25s}: {1:s}'.format('current[A]',fmap.current))\n",
    "print('{0:<25s}: {1:.1f}'.format('magnet length[mm]',fmap.length))\n",
    "print('{0:<25s}: [{1:+.1f},{2:+.1f}], {3:d} points (step {4:.2f} mm)'.format('minx[mm]|maxx[mm]|nrptsx',fmap.rx_min,fmap.rx_max,fmap.rx_nrpts, fmap.rx_step))\n",
    "print('{0:<25s}: [{1:+.1f},{2:+.1f}], {3:d} points (step {4:.2f} mm)'.format('minz[mm]|maxz[mm]|nrptsz',fmap.rz_min,fmap.rz_max,fmap.rz_nrpts, fmap.rx_step))\n",
    "print('{0:<25s}: {1:+.1f}|{2:+.1f}'.format('min_bx|max_bx [T]', numpy.min(fmap.bx[0]), numpy.max(fmap.bx[0])))\n",
    "print('{0:<25s}: {1:+.1f}|{2:+.1f}'.format('min_by|max_by [T]', numpy.min(fmap.by[0]), numpy.max(fmap.by[0])))\n",
    "print('{0:<25s}: {1:+.1f}|{2:+.1f}'.format('min_bz|max_bz [T]', numpy.min(fmap.bz[0]), numpy.max(fmap.bz[0])))"
   ]
  },
  {
   "cell_type": "code",
   "execution_count": 4,
   "metadata": {
    "collapsed": false
   },
   "outputs": [],
   "source": [
    "# --- field interpolation (transverse field profile @ z = 0)\n",
    "x = numpy.linspace(fmap.rx_min,fmap.rx_max,fmap.rx_nrpts)\n",
    "points = numpy.array([(vx,0,0) for vx in x])\n",
    "fields = fmap.interpolate_set(points.T)\n",
    "by = fields[1,:]\n",
    "plt.plot(x,by)\n",
    "plt.xlabel('posx [mm]'), plt.ylabel('by [T]')\n",
    "plt.show()"
   ]
  },
  {
   "cell_type": "code",
   "execution_count": 5,
   "metadata": {
    "collapsed": false
   },
   "outputs": [],
   "source": [
    "# --- field interpolation (longitudinal field profile @ x = 0)\n",
    "z = numpy.linspace(fmap.rz_min,fmap.rz_max,fmap.rz_nrpts)\n",
    "points = numpy.array([(0,0,vz) for vz in z])\n",
    "fields = fmap.interpolate_set(points.T)\n",
    "by = fields[1,:]\n",
    "plt.plot(z,by)\n",
    "plt.xlabel('posz [mm]'), plt.ylabel('by [T]')\n",
    "plt.show()"
   ]
  },
  {
   "cell_type": "code",
   "execution_count": 6,
   "metadata": {
    "collapsed": false
   },
   "outputs": [],
   "source": [
    "# --- define electron beam and trajectory object\n",
    "beam_energy = 3 # [GeV]\n",
    "ebeam = fieldmaptrack.Beam(energy = beam_energy)\n",
    "traj = fieldmaptrack.Trajectory(ebeam, fmap)"
   ]
  },
  {
   "cell_type": "code",
   "execution_count": 8,
   "metadata": {
    "collapsed": false
   },
   "outputs": [],
   "source": [
    "# --- do runge-kutta traj calculation\n",
    "traj_init_rx = 9.045\n",
    "traj_rk_s_step = 0.1\n",
    "init_ry, init_rz = 0,0\n",
    "min_rz = fmap.rz_max\n",
    "traj.calc_trajectory(init_rx = traj_init_rx, initry = init_ry, init_rz = init_rz,\n",
    "                     min_rz = min_rz, s_step = traj_rk_s_step)"
   ]
  },
  {
   "cell_type": "code",
   "execution_count": 9,
   "metadata": {
    "collapsed": true
   },
   "outputs": [],
   "source": [
    "# --- plot calculated trajectory\n",
    "plt.plot(traj.rz, traj.rx)\n",
    "plt.xlabel('rz[mm]'), plt.ylabel('rx[mm]')\n",
    "plt.show()"
   ]
  },
  {
   "cell_type": "code",
   "execution_count": 10,
   "metadata": {
    "collapsed": false
   },
   "outputs": [],
   "source": [
    "# --- calculate multipoles around trajectory\n",
    "perpendicular_grid = numpy.linspace(-12,12,65)\n",
    "multipoles_normal_field_fitting_monomials = (0,1,2,3,4,5,6) # 0 - dipoles, 1 - quadrupole, etc\n",
    "multipoles_skew_field_fitting_monomials = ()  \n",
    "    \n",
    "multipoles = fieldmaptrack.Multipoles(trajectory = traj, \n",
    "                                      perpendicular_grid = perpendicular_grid,\n",
    "                                      normal_field_fitting_monomials = multipoles_normal_field_fitting_monomials,\n",
    "                                      skew_field_fitting_monomials = multipoles_skew_field_fitting_monomials\n",
    "                                     )\n",
    "multipoles.calc_multipoles()"
   ]
  },
  {
   "cell_type": "code",
   "execution_count": 11,
   "metadata": {
    "collapsed": false
   },
   "outputs": [],
   "source": [
    "# --- plot  multipoles\n",
    "normal_dipole = multipoles.normal_multipoles[0,:]\n",
    "normal_quadrupole = multipoles.normal_multipoles[1,:]\n",
    "normal_sextupole = multipoles.normal_multipoles[2,:]\n",
    "\n",
    "plt.plot(traj.s, normal_dipole)\n",
    "plt.xlabel('s[mm]'), plt.ylabel('normal dipole [T]')\n",
    "plt.show(); \n",
    "\n",
    "plt.plot(traj.s, normal_quadrupole)\n",
    "plt.xlabel('s[mm]'), plt.ylabel('normal quadrupole [T/m]')\n",
    "plt.show(); \n",
    "\n",
    "plt.plot(traj.s, normal_sextupole)\n",
    "plt.xlabel('s[mm]'), plt.ylabel('normal sextupole [T/m^2]')\n",
    "plt.show(); "
   ]
  },
  {
   "cell_type": "code",
   "execution_count": null,
   "metadata": {
    "collapsed": true
   },
   "outputs": [],
   "source": []
  }
 ],
 "metadata": {
  "kernelspec": {
   "display_name": "Python 3",
   "language": "python",
   "name": "python3"
  },
  "language_info": {
   "codemirror_mode": {
    "name": "ipython",
    "version": 3
   },
   "file_extension": ".py",
   "mimetype": "text/x-python",
   "name": "python",
   "nbconvert_exporter": "python",
   "pygments_lexer": "ipython3",
   "version": "3.4.3"
  }
 },
 "nbformat": 4,
 "nbformat_minor": 0
}
